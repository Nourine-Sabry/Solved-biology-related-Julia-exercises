{
 "cells": [
  {
   "cell_type": "markdown",
   "metadata": {},
   "source": [
    "# Julia programming exercises:\n",
    "Exercises were retrieved from: <br>\n",
    "https://exercism.org/tracks/julia/exercises/rna-transcription <br>\n",
    "https://exercism.org/tracks/julia/exercises/hamming <br>\n",
    "https://exercism.org/tracks/julia/exercises/nucleotide-count <br>\n",
    "***"
   ]
  },
  {
   "cell_type": "markdown",
   "metadata": {},
   "source": [
    "### RNA transcription:\n",
    "You work for a bioengineering company that specializes in developing therapeutic solutions. <br>\n",
    "Your team has just been given a new project to develop a targeted therapy for a rare type of cancer. <br>\n",
    "Sometimes people's bodies produce too much of a given protein. That can cause all sorts of havoc. <br>\n",
    "But if you can create a very specific molecule (called a micro-RNA), it can prevent the protein from being produced. <br>\n",
    "This technique is called RNA Interference. <br>\n",
    "\n",
    "### Instructions:\n",
    "Your task is determine the RNA complement of a given DNA sequence. <br>\n",
    "Both DNA and RNA strands are a sequence of nucleotides. <br>\n",
    "The four nucleotides found in DNA are adenine (A), cytosine (C), guanine (G) and thymine (T). <br>\n",
    "The four nucleotides found in RNA are adenine (A), cytosine (C), guanine (G) and uracil (U). <br>\n",
    "Given a DNA strand, its transcribed RNA strand is formed by replacing each nucleotide with its complement: <br>\n",
    "    G -> C <br>\n",
    "    C -> G <br>\n",
    "    T -> A <br>\n",
    "    A -> U <br>"
   ]
  },
  {
   "cell_type": "markdown",
   "metadata": {},
   "source": [
    "### Solution:"
   ]
  },
  {
   "cell_type": "code",
   "execution_count": 1,
   "metadata": {},
   "outputs": [
    {
     "name": "stdout",
     "output_type": "stream",
     "text": [
      "UCGAUAGCAUCCAGUCAUU\n"
     ]
    }
   ],
   "source": [
    "function complement(dna::AbstractString)\n",
    "    transc = Dict('G' => 'C', 'C' => 'G', 'T' => 'A', 'A' => 'U')\n",
    "    rna = \"\"\n",
    "    for nucleotide in dna\n",
    "        rna = rna * transc[nucleotide]\n",
    "    end\n",
    "    return rna\n",
    "end\n",
    "\n",
    "println(complement(\"AGCTATCGTAGGTCAGTAA\"))"
   ]
  },
  {
   "cell_type": "markdown",
   "metadata": {},
   "source": [
    "### Calculate the Hamming distance between two DNA strands\n",
    "Your body is made up of cells that contain DNA. Those cells regularly wear out and need replacing, which they achieve by dividing into daughter cells. In fact, the average human body experiences about 10 quadrillion cell divisions in a lifetime! <br>\n",
    "\n",
    "When cells divide, their DNA replicates too. Sometimes during this process mistakes happen and single pieces of DNA get encoded with the incorrect information. If we compare two strands of DNA and count the differences between them we can see how many mistakes occurred. This is known as the \"Hamming Distance\". <br>\n",
    "\n",
    "We read DNA using the letters C,A,G and T. Two strands might look like this: <br>\n",
    "GAGCCTACTAACGGGAT <br>\n",
    "CATCGTAATGACGGCCT <br>\n",
    "^ ^ ^  ^ ^    ^^ <br>\n",
    "They have 7 differences, and therefore the Hamming Distance is 7.\n",
    "### Implementation notes <br>\n",
    "The Hamming distance is only defined for sequences of equal length, so an attempt to calculate it between sequences of different lengths should not work."
   ]
  },
  {
   "cell_type": "code",
   "execution_count": 8,
   "metadata": {},
   "outputs": [
    {
     "name": "stdout",
     "output_type": "stream",
     "text": [
      "5\n"
     ]
    }
   ],
   "source": [
    "function hamming(dna1::AbstractString, dna2::AbstractString)\n",
    "    if length(dna1)!=length(dna2)\n",
    "        throw(ArgumentError(\"DNA sequences must be of equal length\"))\n",
    "    end\n",
    "    sum(map(!=,dna1,dna2))\n",
    "end\n",
    "\n",
    "println(hamming(\"AGGGCTACTA\",\"TGAGATACGT\"))\n",
    "#println(hamming(\"AGCTCGAGTCG\",\"AGTCGATC\")) #Uncomment to test sequences of different lengths"
   ]
  },
  {
   "cell_type": "markdown",
   "metadata": {},
   "source": [
    "### Nucleotide count\n",
    "Each of us inherits from our biological parents a set of chemical instructions known as DNA that influence how our bodies are constructed. All known life depends on DNA! <br>\n",
    "\n",
    "DNA is a long chain of other chemicals and the most important are the four nucleotides, adenine, cytosine, guanine and thymine. A single DNA chain can contain billions of these four nucleotides and the order in which they occur is important! We call the order of these nucleotides in a bit of DNA a \"DNA sequence\". <br>\n",
    "\n",
    "We represent a DNA sequence as an ordered collection of these four nucleotides and a common way to do that is with a string of characters such as \"ATTACG\" for a DNA sequence of 6 nucleotides. 'A' for adenine, 'C' for cytosine, 'G' for guanine, and 'T' for thymine. <br>\n",
    "\n",
    "Given a string representing a DNA sequence, count how many of each nucleotide is present. If the string contains characters that aren't A, C, G, or T then it is invalid and you should signal an error. <br>"
   ]
  },
  {
   "cell_type": "code",
   "execution_count": 6,
   "metadata": {},
   "outputs": [
    {
     "name": "stdout",
     "output_type": "stream",
     "text": [
      "Dict('A' => 5, 'G' => 3, 'T' => 2, 'C' => 2)\n"
     ]
    }
   ],
   "source": [
    "function countnucleotide(dna::AbstractString)\n",
    "    count = Dict('A' => 0, 'C' => 0, 'G' => 0, 'T' => 0)\n",
    "    for nucleotide in dna\n",
    "        try\n",
    "            count[nucleotide] += 1\n",
    "        catch err\n",
    "            throw(DomainError(nucleotide, \"$(nucleotide) is not a nucleotide\"))\n",
    "        end\n",
    "    end\n",
    "    return count\n",
    "end\n",
    "\n",
    "println(countnucleotide(\"AGCTAAGAGTCA\"))\n",
    "#println(countnucleotide(\"ACGUCGAAG\")) #Uncomment to test sequence with invalid nucleotide"
   ]
  }
 ],
 "metadata": {
  "kernelspec": {
   "display_name": "Julia 1.10.4",
   "language": "julia",
   "name": "julia-1.10"
  },
  "language_info": {
   "file_extension": ".jl",
   "mimetype": "application/julia",
   "name": "julia",
   "version": "1.10.4"
  }
 },
 "nbformat": 4,
 "nbformat_minor": 2
}
